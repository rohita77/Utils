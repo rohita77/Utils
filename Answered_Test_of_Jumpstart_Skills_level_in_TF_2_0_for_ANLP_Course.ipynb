{
  "nbformat": 4,
  "nbformat_minor": 0,
  "metadata": {
    "colab": {
      "name": "Answered Test of Jumpstart Skills level in TF 2.0 for ANLP Course.ipynb",
      "provenance": [],
      "collapsed_sections": [],
      "include_colab_link": true
    },
    "kernelspec": {
      "name": "python3",
      "display_name": "Python 3"
    },
    "accelerator": "GPU"
  },
  "cells": [
    {
      "cell_type": "markdown",
      "metadata": {
        "id": "view-in-github",
        "colab_type": "text"
      },
      "source": [
        "<a href=\"https://colab.research.google.com/github/rohita77/Utils/blob/master/Answered_Test_of_Jumpstart_Skills_level_in_TF_2_0_for_ANLP_Course.ipynb\" target=\"_parent\"><img src=\"https://colab.research.google.com/assets/colab-badge.svg\" alt=\"Open In Colab\"/></a>"
      ]
    },
    {
      "cell_type": "markdown",
      "metadata": {
        "id": "HJ26wQO_Y7Pa",
        "colab_type": "text"
      },
      "source": [
        "## Test of Deep Learning Foundation Skills in TF 2.0\n",
        "\n",
        "This test is to check that you are comfortable to build a simple LSTM model in TensorFlow 2.0 \n",
        "\n",
        "Please copy the notebook and then go through and fill in the missing code. We want to make sure you understand the concepts and the code. Please feel free to add comments etc.\n",
        "\n",
        "Once you are done please create a shared linked and submit that."
      ]
    },
    {
      "cell_type": "markdown",
      "metadata": {
        "id": "gvzwsqkIZYWe",
        "colab_type": "text"
      },
      "source": [
        "## Loading in GloVe Embeddings and the data set"
      ]
    },
    {
      "cell_type": "code",
      "metadata": {
        "id": "30JJFOLDZEfk",
        "colab_type": "code",
        "outputId": "5f0a1a57-617f-46bb-e4a1-22aa64c7676d",
        "colab": {
          "base_uri": "https://localhost:8080/",
          "height": 51
        }
      },
      "source": [
        "!wget -qq https://www.dropbox.com/s/v14xhvjmfniraf3/glove6b100dtxt.zip\n",
        "  \n",
        "!unzip glove6b100dtxt.zip\n",
        "\n",
        "!wget -qq https://www.dropbox.com/s/fi2ytva8yvbobu1/newsgroup20.zip\n",
        "!unzip -qq newsgroup20.zip\n",
        "\n",
        "!rm -r __MACOSX"
      ],
      "execution_count": 0,
      "outputs": [
        {
          "output_type": "stream",
          "text": [
            "Archive:  glove6b100dtxt.zip\n",
            "  inflating: glove.6B.100d.txt       \n"
          ],
          "name": "stdout"
        }
      ]
    },
    {
      "cell_type": "code",
      "metadata": {
        "id": "t1byqVC1bAgp",
        "colab_type": "code",
        "outputId": "a48f0819-026f-43cf-dc99-aecf6025a147",
        "colab": {
          "base_uri": "https://localhost:8080/",
          "height": 102
        }
      },
      "source": [
        "%tensorflow_version 2.0"
      ],
      "execution_count": 0,
      "outputs": [
        {
          "output_type": "stream",
          "text": [
            "`%tensorflow_version` only switches the major version: `1.x` or `2.x`.\n",
            "You set: `2.0`. This will be interpreted as: `2.x`.\n",
            "\n",
            "\n",
            "TensorFlow 2.x selected.\n"
          ],
          "name": "stdout"
        }
      ]
    },
    {
      "cell_type": "markdown",
      "metadata": {
        "id": "1jSYQ2C6ZquQ",
        "colab_type": "text"
      },
      "source": [
        "## Imports \n",
        "\n",
        "bring in the various components you need to preprocess text and run it through "
      ]
    },
    {
      "cell_type": "code",
      "metadata": {
        "id": "_T6a-e6vZkGx",
        "colab_type": "code",
        "colab": {}
      },
      "source": [
        "import os\n",
        "import sys\n",
        "import numpy as np\n",
        "\n",
        "import tensorflow as tf\n",
        "\n",
        "from tensorflow.keras.preprocessing.text import Tokenizer\n",
        "from tensorflow.keras.preprocessing.sequence import pad_sequences\n",
        "\n",
        "from tensorflow.keras.utils import to_categorical\n",
        "\n",
        "from tensorflow.keras.layers import Dense, Input, GlobalMaxPooling1D, LSTM\n",
        "from tensorflow.keras.layers import Conv1D, MaxPooling1D, Embedding\n",
        "from tensorflow.keras.models import Model\n",
        "from tensorflow.keras.initializers import Constant"
      ],
      "execution_count": 0,
      "outputs": []
    },
    {
      "cell_type": "code",
      "metadata": {
        "id": "RYpSVv0ce5iU",
        "colab_type": "code",
        "outputId": "6f3924b4-d9fb-4809-8ad6-1f0d7284feb3",
        "colab": {
          "base_uri": "https://localhost:8080/",
          "height": 34
        }
      },
      "source": [
        "print(tf.__version__)"
      ],
      "execution_count": 0,
      "outputs": [
        {
          "output_type": "stream",
          "text": [
            "2.0.0\n"
          ],
          "name": "stdout"
        }
      ]
    },
    {
      "cell_type": "code",
      "metadata": {
        "id": "KeMsVDGUaYM9",
        "colab_type": "code",
        "colab": {}
      },
      "source": [
        "BASE_DIR = ''\n",
        "GLOVE_DIR = os.path.join(BASE_DIR, '')\n",
        "TEXT_DATA_DIR = os.path.join(BASE_DIR, '20_newsgroup')\n",
        "\n",
        "MAX_SEQUENCE_LENGTH = 200\n",
        "MAX_NUM_WORDS = 20000\n",
        "EMBEDDING_DIM = 100\n",
        "VALIDATION_SPLIT = 0.2"
      ],
      "execution_count": 0,
      "outputs": []
    },
    {
      "cell_type": "code",
      "metadata": {
        "id": "6BppNXIPy4O7",
        "colab_type": "code",
        "outputId": "e2b3257d-1107-47b0-f868-c7e40bbc859a",
        "colab": {
          "base_uri": "https://localhost:8080/",
          "height": 34
        }
      },
      "source": [
        "#Assembling the GloVe word vectors\n",
        "embeddings_index = {}\n",
        "with open(os.path.join(GLOVE_DIR, 'glove.6B.100d.txt')) as f:\n",
        "    for line in f:\n",
        "        values = line.split()\n",
        "        word = values[0]\n",
        "        coefs = np.asarray(values[1:], dtype='float32')\n",
        "        embeddings_index[word] = coefs\n",
        "\n",
        "print('Found %s word vectors.' % len(embeddings_index))"
      ],
      "execution_count": 0,
      "outputs": [
        {
          "output_type": "stream",
          "text": [
            "Found 400000 word vectors.\n"
          ],
          "name": "stdout"
        }
      ]
    },
    {
      "cell_type": "markdown",
      "metadata": {
        "id": "bmJ7KOpw0eVA",
        "colab_type": "text"
      },
      "source": [
        "### Check Example Glove embedding"
      ]
    },
    {
      "cell_type": "code",
      "metadata": {
        "id": "Jf9TuMq20aWl",
        "colab_type": "code",
        "outputId": "d12ef5c1-2e4e-45a7-f74b-e0d67fc91bb6",
        "colab": {
          "base_uri": "https://localhost:8080/",
          "height": 374
        }
      },
      "source": [
        "embeddings_index['hello']"
      ],
      "execution_count": 0,
      "outputs": [
        {
          "output_type": "execute_result",
          "data": {
            "text/plain": [
              "array([ 0.26688  ,  0.39632  ,  0.6169   , -0.77451  , -0.1039   ,\n",
              "        0.26697  ,  0.2788   ,  0.30992  ,  0.0054685, -0.085256 ,\n",
              "        0.73602  , -0.098432 ,  0.5479   , -0.030305 ,  0.33479  ,\n",
              "        0.14094  , -0.0070003,  0.32569  ,  0.22902  ,  0.46557  ,\n",
              "       -0.19531  ,  0.37491  , -0.7139   , -0.51775  ,  0.77039  ,\n",
              "        1.0881   , -0.66011  , -0.16234  ,  0.9119   ,  0.21046  ,\n",
              "        0.047494 ,  1.0019   ,  1.1133   ,  0.70094  , -0.08696  ,\n",
              "        0.47571  ,  0.1636   , -0.44469  ,  0.4469   , -0.93817  ,\n",
              "        0.013101 ,  0.085964 , -0.67456  ,  0.49662  , -0.037827 ,\n",
              "       -0.11038  , -0.28612  ,  0.074606 , -0.31527  , -0.093774 ,\n",
              "       -0.57069  ,  0.66865  ,  0.45307  , -0.34154  , -0.7166   ,\n",
              "       -0.75273  ,  0.075212 ,  0.57903  , -0.1191   , -0.11379  ,\n",
              "       -0.10026  ,  0.71341  , -1.1574   , -0.74026  ,  0.40452  ,\n",
              "        0.18023  ,  0.21449  ,  0.37638  ,  0.11239  , -0.53639  ,\n",
              "       -0.025092 ,  0.31886  , -0.25013  , -0.63283  , -0.011843 ,\n",
              "        1.377    ,  0.86013  ,  0.20476  , -0.36815  , -0.68874  ,\n",
              "        0.53512  , -0.46556  ,  0.27389  ,  0.4118   , -0.854    ,\n",
              "       -0.046288 ,  0.11304  , -0.27326  ,  0.15636  , -0.20334  ,\n",
              "        0.53586  ,  0.59784  ,  0.60469  ,  0.13735  ,  0.42232  ,\n",
              "       -0.61279  , -0.38486  ,  0.35842  , -0.48464  ,  0.30728  ],\n",
              "      dtype=float32)"
            ]
          },
          "metadata": {
            "tags": []
          },
          "execution_count": 8
        }
      ]
    },
    {
      "cell_type": "markdown",
      "metadata": {
        "id": "axxE-4bF4aw6",
        "colab_type": "text"
      },
      "source": [
        "## Load the text samples and process their dataset"
      ]
    },
    {
      "cell_type": "code",
      "metadata": {
        "id": "DNl30KDly7za",
        "colab_type": "code",
        "outputId": "54d496fe-823b-4428-b97e-20ea47d4fa05",
        "colab": {
          "base_uri": "https://localhost:8080/",
          "height": 51
        }
      },
      "source": [
        "# Process the text \n",
        "print('Processing text dataset')\n",
        "\n",
        "texts = []  # list of text samples\n",
        "labels_index = {}  # dictionary mapping label name to numeric id\n",
        "labels = []  # list of label ids\n",
        "\n",
        "for name in sorted(os.listdir(TEXT_DATA_DIR)):\n",
        "    path = os.path.join(TEXT_DATA_DIR, name)\n",
        "    if os.path.isdir(path):\n",
        "\n",
        "        #new label id\n",
        "        label_id = len(labels_index)\n",
        "        # directory name is label name\n",
        "        labels_index[name] = label_id\n",
        "\n",
        "        for fname in sorted(os.listdir(path)):\n",
        "            if fname.isdigit():\n",
        "                fpath = os.path.join(path, fname)\n",
        "                args = {} if sys.version_info < (3,) else {'encoding': 'latin-1'}\n",
        "                with open(fpath, **args) as f:\n",
        "                    t = f.read()\n",
        "                    i = t.find('\\n\\n')  # skip header\n",
        "                    if 0 < i:\n",
        "                        t = t[i:]\n",
        "                    texts.append(t)\n",
        "                labels.append(label_id)\n",
        "\n",
        "print('Found %s texts.' % len(texts))"
      ],
      "execution_count": 0,
      "outputs": [
        {
          "output_type": "stream",
          "text": [
            "Processing text dataset\n",
            "Found 19997 texts.\n"
          ],
          "name": "stdout"
        }
      ]
    },
    {
      "cell_type": "code",
      "metadata": {
        "id": "bofLHVHWPmXH",
        "colab_type": "code",
        "outputId": "43cb0bdd-65d4-45b7-9077-9b3ded94bfa6",
        "colab": {
          "base_uri": "https://localhost:8080/",
          "height": 357
        }
      },
      "source": [
        "labels_index"
      ],
      "execution_count": 0,
      "outputs": [
        {
          "output_type": "execute_result",
          "data": {
            "text/plain": [
              "{'alt.atheism': 0,\n",
              " 'comp.graphics': 1,\n",
              " 'comp.os.ms-windows.misc': 2,\n",
              " 'comp.sys.ibm.pc.hardware': 3,\n",
              " 'comp.sys.mac.hardware': 4,\n",
              " 'comp.windows.x': 5,\n",
              " 'misc.forsale': 6,\n",
              " 'rec.autos': 7,\n",
              " 'rec.motorcycles': 8,\n",
              " 'rec.sport.baseball': 9,\n",
              " 'rec.sport.hockey': 10,\n",
              " 'sci.crypt': 11,\n",
              " 'sci.electronics': 12,\n",
              " 'sci.med': 13,\n",
              " 'sci.space': 14,\n",
              " 'soc.religion.christian': 15,\n",
              " 'talk.politics.guns': 16,\n",
              " 'talk.politics.mideast': 17,\n",
              " 'talk.politics.misc': 18,\n",
              " 'talk.religion.misc': 19}"
            ]
          },
          "metadata": {
            "tags": []
          },
          "execution_count": 10
        }
      ]
    },
    {
      "cell_type": "markdown",
      "metadata": {
        "id": "NdAB-SXW4ht2",
        "colab_type": "text"
      },
      "source": [
        "## Tokenize the words \n",
        "\n",
        "Please use the Tokenizer class and pad_sequences to prepare the text"
      ]
    },
    {
      "cell_type": "code",
      "metadata": {
        "id": "iv1Ve1Cz1pLf",
        "colab_type": "code",
        "colab": {}
      },
      "source": [
        ""
      ],
      "execution_count": 0,
      "outputs": []
    },
    {
      "cell_type": "code",
      "metadata": {
        "id": "jAm7OH78Piqy",
        "colab_type": "code",
        "colab": {}
      },
      "source": [
        "tokenizer = Tokenizer(MAX_NUM_WORDS)\n",
        "#Fit text to get tokens\n",
        "tokenizer.fit_on_texts(texts);"
      ],
      "execution_count": 0,
      "outputs": []
    },
    {
      "cell_type": "code",
      "metadata": {
        "id": "jZQG6i8GTIv6",
        "colab_type": "code",
        "outputId": "26c5209e-18d1-4ceb-e82d-95a462dc2015",
        "colab": {
          "base_uri": "https://localhost:8080/",
          "height": 34
        }
      },
      "source": [
        "print(f'Found {len(tokenizer.word_counts)} unique tokens!' )"
      ],
      "execution_count": 0,
      "outputs": [
        {
          "output_type": "stream",
          "text": [
            "Found 174074 unique tokens!\n"
          ],
          "name": "stdout"
        }
      ]
    },
    {
      "cell_type": "markdown",
      "metadata": {
        "id": "edoM7dYX4aU5",
        "colab_type": "text"
      },
      "source": [
        "Pad Sequences to a common length\n"
      ]
    },
    {
      "cell_type": "code",
      "metadata": {
        "id": "rriBUQ5tS0mV",
        "colab_type": "code",
        "outputId": "6269b29e-d69f-4c64-ca05-15066514fbd5",
        "colab": {
          "base_uri": "https://localhost:8080/",
          "height": 408
        }
      },
      "source": [
        "data = pad_sequences(tokenizer.texts_to_sequences(texts), maxlen=MAX_SEQUENCE_LENGTH)\n",
        "data[100]"
      ],
      "execution_count": 0,
      "outputs": [
        {
          "output_type": "execute_result",
          "data": {
            "text/plain": [
              "array([  595,    67,   251,   820,   251,  7310,     5,   114,   251,\n",
              "       19980,     3,    35,     8,     1,   150,  3543,   252,   251,\n",
              "        7310,   137,    52,   287,    68,  1997, 11234,     5,  1002,\n",
              "          12,   816,    22,   314,   816,    82,     2,   495,  1819,\n",
              "        1242,  3065,     5,   240,    11,  2792,    22,   114,   177,\n",
              "          11,  2792,     5,   350,    11,     8,    14,   117,   150,\n",
              "         610,    29, 19979,    61, 11995,   288,   634,  1002,   121,\n",
              "        1451,     6,   354,  3591,   137,     5,     6,   699,     1,\n",
              "         422,   137,    17,  4406,    33,   686,     6,    33,   686,\n",
              "           1,   134,   639,   310,     8,     1,  1267,     3,   362,\n",
              "           6,  2992,    13,  4318,   110,  3918,    14,   253,     2,\n",
              "          16,     1,  3336,     3,   374,  2506,     5, 13811,     2,\n",
              "        8333,     9,    11,     8,   287,  1724,     2,   116,     1,\n",
              "        2520,  4015,    22,  2506,    15,     1,   230,     3,  2114,\n",
              "        6851,    82,    11,     8,     2,   116,    11,     6, 10356,\n",
              "         604,  3753,   405,    16,    14,   382,    96,    86,  1399,\n",
              "         715,     2,  1152,  1403,     9,    19,    17,   206,     7,\n",
              "         103,    21,    40,   313,     3,  2530,   265,    11,   179,\n",
              "           1,  3889,    62,     3,    53,   197,  1813,   177,    13,\n",
              "         264,     2,  1900,     1, 17719,    29,    53, 15018,  1813,\n",
              "       12281,  1353,  1006,  4655, 10023, 18397, 18397,  7501,  2856,\n",
              "          26,    32,   506,   249,  2995,  1156,  3332,   342,  2345,\n",
              "         375,   129], dtype=int32)"
            ]
          },
          "metadata": {
            "tags": []
          },
          "execution_count": 14
        }
      ]
    },
    {
      "cell_type": "markdown",
      "metadata": {
        "id": "D1ljxiJf4uUU",
        "colab_type": "text"
      },
      "source": [
        "## OHE labels\n",
        "\n",
        "Make One Hot Encoded Labels"
      ]
    },
    {
      "cell_type": "code",
      "metadata": {
        "id": "7RN-GNEeRhwx",
        "colab_type": "code",
        "colab": {}
      },
      "source": [
        "#keep the original lables list\n",
        "labels_orig = labels"
      ],
      "execution_count": 0,
      "outputs": []
    },
    {
      "cell_type": "code",
      "metadata": {
        "id": "Kna2JZy51ttS",
        "colab_type": "code",
        "outputId": "a410e32c-bba2-4ab6-ff73-230dafee8f60",
        "colab": {
          "base_uri": "https://localhost:8080/",
          "height": 51
        }
      },
      "source": [
        "\n",
        "\n",
        "labels = to_categorical(labels_orig)\n",
        "print('Shape of data tensor:', data.shape)\n",
        "print('Shape of label tensor:', labels.shape)"
      ],
      "execution_count": 0,
      "outputs": [
        {
          "output_type": "stream",
          "text": [
            "Shape of data tensor: (19997, 200)\n",
            "Shape of label tensor: (19997, 20)\n"
          ],
          "name": "stdout"
        }
      ]
    },
    {
      "cell_type": "code",
      "metadata": {
        "id": "8cX0G3xW1xI4",
        "colab_type": "code",
        "colab": {}
      },
      "source": [
        "# split the data into a training set and a validation set\n",
        "indices = np.arange(data.shape[0])\n",
        "np.random.shuffle(indices)\n",
        "data = data[indices]\n",
        "labels = labels[indices]\n",
        "num_validation_samples = int(VALIDATION_SPLIT * data.shape[0])\n"
      ],
      "execution_count": 0,
      "outputs": []
    },
    {
      "cell_type": "markdown",
      "metadata": {
        "id": "GhX7KWlT4yZj",
        "colab_type": "text"
      },
      "source": [
        "## Make a train test split\n",
        "\n",
        "Make a train test split"
      ]
    },
    {
      "cell_type": "code",
      "metadata": {
        "id": "yUqKkvC112xs",
        "colab_type": "code",
        "outputId": "d5458f91-8bf7-4cf3-f81c-91bd7b4831ec",
        "colab": {
          "base_uri": "https://localhost:8080/",
          "height": 51
        }
      },
      "source": [
        "train_data = data[:-num_validation_samples]\n",
        "test_data = data[-num_validation_samples:]\n",
        "train_labels = labels[:-num_validation_samples]\n",
        "test_labels= labels[-num_validation_samples:]\n",
        "print(f' labels in training set: {len(train_data)}')\n",
        "print(f' labels in test set: {len(test_data)}')"
      ],
      "execution_count": 0,
      "outputs": [
        {
          "output_type": "stream",
          "text": [
            " labels in training set: 15998\n",
            " labels in test set: 3999\n"
          ],
          "name": "stdout"
        }
      ]
    },
    {
      "cell_type": "markdown",
      "metadata": {
        "id": "4IGlkUBt42KV",
        "colab_type": "text"
      },
      "source": [
        "## Matrix for embedding"
      ]
    },
    {
      "cell_type": "code",
      "metadata": {
        "id": "RlbV0BHjFQOS",
        "colab_type": "code",
        "colab": {}
      },
      "source": [
        "word_index = tokenizer.word_index"
      ],
      "execution_count": 0,
      "outputs": []
    },
    {
      "cell_type": "code",
      "metadata": {
        "id": "pTWOy24G17-E",
        "colab_type": "code",
        "outputId": "38363fca-67bd-4ba4-f31a-e5a015cc28c0",
        "colab": {
          "base_uri": "https://localhost:8080/",
          "height": 34
        }
      },
      "source": [
        "print('Preparing embedding matrix.')\n",
        "\n",
        "# prepare embedding matrix\n",
        "num_words = min(MAX_NUM_WORDS, len(word_index)) + 1\n",
        "embedding_matrix = np.zeros((num_words, EMBEDDING_DIM))\n",
        "for word, i in word_index.items():\n",
        "    if i > MAX_NUM_WORDS:\n",
        "        continue\n",
        "    embedding_vector = embeddings_index.get(word)\n",
        "    if embedding_vector is not None:\n",
        "        # words not found in embedding index will be all-zeros.\n",
        "        embedding_matrix[i] = embedding_vector\n",
        "\n",
        "# load pre-trained word embeddings into an Embedding layer\n",
        "# note that we set trainable = False so as to keep the embeddings fixed\n",
        "embedding_layer = Embedding(num_words,\n",
        "                            EMBEDDING_DIM,\n",
        "                            embeddings_initializer=Constant(embedding_matrix),\n",
        "                            input_length=MAX_SEQUENCE_LENGTH,\n",
        "                            trainable=False)"
      ],
      "execution_count": 0,
      "outputs": [
        {
          "output_type": "stream",
          "text": [
            "Preparing embedding matrix.\n"
          ],
          "name": "stdout"
        }
      ]
    },
    {
      "cell_type": "markdown",
      "metadata": {
        "id": "3UEgt6_T48WC",
        "colab_type": "text"
      },
      "source": [
        "## Define the model and compile using the Functional API"
      ]
    },
    {
      "cell_type": "code",
      "metadata": {
        "id": "W9CWpSoz7U-n",
        "colab_type": "code",
        "colab": {}
      },
      "source": [
        "sequence_input = Input(shape=(MAX_SEQUENCE_LENGTH,), dtype='int32')\n",
        "input_layer = embedding_layer (sequence_input)\n",
        "\n",
        "#LSTM Layer with 128 units\n",
        "# Add dropout to prevent overfitting of training data and divergence between training and validation accuracy.\n",
        "lstm_layer = LSTM(128,dropout=0.2, recurrent_dropout=0.2)(input_layer)\n",
        "\n",
        "#Dense Output Layer with 1 node for each predicted lable name. Sofmax for multiclass classification\n",
        "dense_layer = Dense(len(labels_index),activation='softmax')(lstm_layer)\n",
        "preds  = dense_layer\n"
      ],
      "execution_count": 0,
      "outputs": []
    },
    {
      "cell_type": "code",
      "metadata": {
        "id": "qSFZQOPj2AMO",
        "colab_type": "code",
        "outputId": "87a2c3d9-b252-439e-d6b4-5fc86485e278",
        "colab": {
          "base_uri": "https://localhost:8080/",
          "height": 289
        }
      },
      "source": [
        "model = Model(sequence_input, preds)\n",
        "model.summary()"
      ],
      "execution_count": 0,
      "outputs": [
        {
          "output_type": "stream",
          "text": [
            "Model: \"model\"\n",
            "_________________________________________________________________\n",
            "Layer (type)                 Output Shape              Param #   \n",
            "=================================================================\n",
            "input_1 (InputLayer)         [(None, 200)]             0         \n",
            "_________________________________________________________________\n",
            "embedding (Embedding)        (None, 200, 100)          2000100   \n",
            "_________________________________________________________________\n",
            "lstm (LSTM)                  (None, 128)               117248    \n",
            "_________________________________________________________________\n",
            "dense (Dense)                (None, 20)                2580      \n",
            "=================================================================\n",
            "Total params: 2,119,928\n",
            "Trainable params: 119,828\n",
            "Non-trainable params: 2,000,100\n",
            "_________________________________________________________________\n"
          ],
          "name": "stdout"
        }
      ]
    },
    {
      "cell_type": "code",
      "metadata": {
        "id": "CzadLbP78UWa",
        "colab_type": "code",
        "colab": {}
      },
      "source": [
        "\n",
        "\n",
        "model.compile(loss='categorical_crossentropy',\n",
        "              optimizer='adam',\n",
        "              metrics=['acc'])\n"
      ],
      "execution_count": 0,
      "outputs": []
    },
    {
      "cell_type": "markdown",
      "metadata": {
        "id": "K-BUTEhTgnyO",
        "colab_type": "text"
      },
      "source": [
        "### Train the model using model.fit"
      ]
    },
    {
      "cell_type": "code",
      "metadata": {
        "id": "aHmJ02YF6YKj",
        "colab_type": "code",
        "colab": {}
      },
      "source": [
        "#early_stopping_cb = tf.keras.callbacks.EarlyStopping(monitor='val_loss')"
      ],
      "execution_count": 0,
      "outputs": []
    },
    {
      "cell_type": "code",
      "metadata": {
        "id": "U2Oc1YPp2Erl",
        "colab_type": "code",
        "outputId": "8abb1c12-2804-45a5-c55d-f839aa76272d",
        "colab": {
          "base_uri": "https://localhost:8080/",
          "height": 1000
        }
      },
      "source": [
        "model.fit(train_data, train_labels,\n",
        "          batch_size=512,\n",
        "          epochs=50,\n",
        "          validation_split=0.2,\n",
        "        #  callbacks = [early_stopping_cb] # To stop training after convergence \n",
        "          )"
      ],
      "execution_count": 0,
      "outputs": [
        {
          "output_type": "stream",
          "text": [
            "Train on 12798 samples, validate on 3200 samples\n",
            "Epoch 1/50\n",
            "12798/12798 [==============================] - 11s 884us/sample - loss: 2.9432 - acc: 0.1022 - val_loss: 2.8090 - val_acc: 0.1644\n",
            "Epoch 2/50\n",
            "12798/12798 [==============================] - 9s 681us/sample - loss: 2.6682 - acc: 0.1666 - val_loss: 2.5482 - val_acc: 0.1719\n",
            "Epoch 3/50\n",
            "12798/12798 [==============================] - 9s 681us/sample - loss: 2.5044 - acc: 0.2070 - val_loss: 2.3583 - val_acc: 0.2313\n",
            "Epoch 4/50\n",
            "12798/12798 [==============================] - 9s 675us/sample - loss: 2.3711 - acc: 0.2381 - val_loss: 2.2835 - val_acc: 0.2559\n",
            "Epoch 5/50\n",
            "12798/12798 [==============================] - 9s 677us/sample - loss: 2.3044 - acc: 0.2659 - val_loss: 2.1357 - val_acc: 0.2956\n",
            "Epoch 6/50\n",
            "12798/12798 [==============================] - 9s 695us/sample - loss: 2.1883 - acc: 0.2875 - val_loss: 2.0537 - val_acc: 0.3125\n",
            "Epoch 7/50\n",
            "12798/12798 [==============================] - 9s 695us/sample - loss: 2.0802 - acc: 0.3143 - val_loss: 1.9000 - val_acc: 0.3581\n",
            "Epoch 8/50\n",
            "12798/12798 [==============================] - 9s 684us/sample - loss: 1.9583 - acc: 0.3527 - val_loss: 1.7809 - val_acc: 0.3900\n",
            "Epoch 9/50\n",
            "12798/12798 [==============================] - 9s 684us/sample - loss: 1.8571 - acc: 0.3781 - val_loss: 1.6873 - val_acc: 0.4209\n",
            "Epoch 10/50\n",
            "12798/12798 [==============================] - 9s 671us/sample - loss: 1.7549 - acc: 0.4040 - val_loss: 1.6030 - val_acc: 0.4503\n",
            "Epoch 11/50\n",
            "12798/12798 [==============================] - 9s 683us/sample - loss: 1.6731 - acc: 0.4307 - val_loss: 1.5329 - val_acc: 0.4750\n",
            "Epoch 12/50\n",
            "12798/12798 [==============================] - 9s 677us/sample - loss: 1.5955 - acc: 0.4633 - val_loss: 1.4704 - val_acc: 0.5100\n",
            "Epoch 13/50\n",
            "12798/12798 [==============================] - 9s 674us/sample - loss: 1.5244 - acc: 0.4923 - val_loss: 1.4281 - val_acc: 0.5150\n",
            "Epoch 14/50\n",
            "12798/12798 [==============================] - 9s 679us/sample - loss: 1.4455 - acc: 0.5080 - val_loss: 1.3476 - val_acc: 0.5394\n",
            "Epoch 15/50\n",
            "12798/12798 [==============================] - 9s 675us/sample - loss: 1.3814 - acc: 0.5373 - val_loss: 1.2925 - val_acc: 0.5638\n",
            "Epoch 16/50\n",
            "12798/12798 [==============================] - 9s 687us/sample - loss: 1.3420 - acc: 0.5499 - val_loss: 1.2835 - val_acc: 0.5678\n",
            "Epoch 17/50\n",
            "12798/12798 [==============================] - 9s 680us/sample - loss: 1.3011 - acc: 0.5656 - val_loss: 1.2350 - val_acc: 0.5866\n",
            "Epoch 18/50\n",
            "12798/12798 [==============================] - 9s 681us/sample - loss: 1.2428 - acc: 0.5810 - val_loss: 1.1999 - val_acc: 0.5934\n",
            "Epoch 19/50\n",
            "12798/12798 [==============================] - 9s 670us/sample - loss: 1.2054 - acc: 0.5986 - val_loss: 1.1853 - val_acc: 0.5966\n",
            "Epoch 20/50\n",
            "12798/12798 [==============================] - 9s 678us/sample - loss: 1.1720 - acc: 0.6107 - val_loss: 1.1527 - val_acc: 0.6162\n",
            "Epoch 21/50\n",
            "12798/12798 [==============================] - 9s 670us/sample - loss: 1.1382 - acc: 0.6142 - val_loss: 1.1266 - val_acc: 0.6234\n",
            "Epoch 22/50\n",
            "12798/12798 [==============================] - 9s 677us/sample - loss: 1.1093 - acc: 0.6335 - val_loss: 1.1119 - val_acc: 0.6319\n",
            "Epoch 23/50\n",
            "12798/12798 [==============================] - 9s 675us/sample - loss: 1.0758 - acc: 0.6424 - val_loss: 1.0882 - val_acc: 0.6413\n",
            "Epoch 24/50\n",
            "12798/12798 [==============================] - 9s 680us/sample - loss: 1.0610 - acc: 0.6491 - val_loss: 1.0692 - val_acc: 0.6428\n",
            "Epoch 25/50\n",
            "12798/12798 [==============================] - 9s 682us/sample - loss: 1.0373 - acc: 0.6556 - val_loss: 1.0612 - val_acc: 0.6481\n",
            "Epoch 26/50\n",
            "12798/12798 [==============================] - 9s 678us/sample - loss: 1.0028 - acc: 0.6675 - val_loss: 1.0344 - val_acc: 0.6541\n",
            "Epoch 27/50\n",
            "12798/12798 [==============================] - 9s 679us/sample - loss: 0.9893 - acc: 0.6729 - val_loss: 1.0152 - val_acc: 0.6559\n",
            "Epoch 28/50\n",
            "12798/12798 [==============================] - 9s 673us/sample - loss: 0.9707 - acc: 0.6794 - val_loss: 1.0128 - val_acc: 0.6603\n",
            "Epoch 29/50\n",
            "12798/12798 [==============================] - 9s 673us/sample - loss: 0.9468 - acc: 0.6891 - val_loss: 0.9892 - val_acc: 0.6706\n",
            "Epoch 30/50\n",
            "12798/12798 [==============================] - 9s 671us/sample - loss: 0.9284 - acc: 0.6957 - val_loss: 0.9846 - val_acc: 0.6750\n",
            "Epoch 31/50\n",
            "12798/12798 [==============================] - 9s 676us/sample - loss: 0.9013 - acc: 0.7010 - val_loss: 0.9710 - val_acc: 0.6769\n",
            "Epoch 32/50\n",
            "12798/12798 [==============================] - 9s 671us/sample - loss: 0.8876 - acc: 0.7084 - val_loss: 0.9637 - val_acc: 0.6781\n",
            "Epoch 33/50\n",
            "12798/12798 [==============================] - 9s 675us/sample - loss: 0.8695 - acc: 0.7128 - val_loss: 0.9605 - val_acc: 0.6800\n",
            "Epoch 34/50\n",
            "12798/12798 [==============================] - 9s 674us/sample - loss: 0.8531 - acc: 0.7185 - val_loss: 0.9343 - val_acc: 0.6944\n",
            "Epoch 35/50\n",
            "12798/12798 [==============================] - 9s 673us/sample - loss: 0.8377 - acc: 0.7245 - val_loss: 0.9300 - val_acc: 0.6916\n",
            "Epoch 36/50\n",
            "12798/12798 [==============================] - 9s 676us/sample - loss: 0.8242 - acc: 0.7283 - val_loss: 0.9215 - val_acc: 0.6966\n",
            "Epoch 37/50\n",
            "12798/12798 [==============================] - 9s 674us/sample - loss: 0.8130 - acc: 0.7311 - val_loss: 0.9129 - val_acc: 0.7028\n",
            "Epoch 38/50\n",
            "12798/12798 [==============================] - 9s 674us/sample - loss: 0.7970 - acc: 0.7364 - val_loss: 0.9158 - val_acc: 0.7009\n",
            "Epoch 39/50\n",
            "12798/12798 [==============================] - 9s 676us/sample - loss: 0.7904 - acc: 0.7396 - val_loss: 0.9035 - val_acc: 0.7056\n",
            "Epoch 40/50\n",
            "12798/12798 [==============================] - 9s 676us/sample - loss: 0.7744 - acc: 0.7440 - val_loss: 0.8847 - val_acc: 0.7078\n",
            "Epoch 41/50\n",
            "12798/12798 [==============================] - 9s 673us/sample - loss: 0.7651 - acc: 0.7486 - val_loss: 0.8735 - val_acc: 0.7119\n",
            "Epoch 42/50\n",
            "12798/12798 [==============================] - 9s 671us/sample - loss: 0.7515 - acc: 0.7545 - val_loss: 0.8658 - val_acc: 0.7206\n",
            "Epoch 43/50\n",
            "12798/12798 [==============================] - 9s 665us/sample - loss: 0.7394 - acc: 0.7536 - val_loss: 0.8700 - val_acc: 0.7113\n",
            "Epoch 44/50\n",
            "12798/12798 [==============================] - 9s 671us/sample - loss: 0.7288 - acc: 0.7610 - val_loss: 0.8806 - val_acc: 0.7053\n",
            "Epoch 45/50\n",
            "12798/12798 [==============================] - 9s 672us/sample - loss: 0.7210 - acc: 0.7597 - val_loss: 0.8578 - val_acc: 0.7175\n",
            "Epoch 46/50\n",
            "12798/12798 [==============================] - 9s 669us/sample - loss: 0.7047 - acc: 0.7695 - val_loss: 0.8529 - val_acc: 0.7212\n",
            "Epoch 47/50\n",
            "12798/12798 [==============================] - 9s 681us/sample - loss: 0.7020 - acc: 0.7661 - val_loss: 0.8562 - val_acc: 0.7191\n",
            "Epoch 48/50\n",
            "12798/12798 [==============================] - 8s 658us/sample - loss: 0.6955 - acc: 0.7693 - val_loss: 0.8532 - val_acc: 0.7200\n",
            "Epoch 49/50\n",
            "12798/12798 [==============================] - 9s 666us/sample - loss: 0.6836 - acc: 0.7740 - val_loss: 0.8527 - val_acc: 0.7222\n",
            "Epoch 50/50\n",
            "12798/12798 [==============================] - 9s 667us/sample - loss: 0.6739 - acc: 0.7761 - val_loss: 0.8457 - val_acc: 0.7253\n"
          ],
          "name": "stdout"
        },
        {
          "output_type": "execute_result",
          "data": {
            "text/plain": [
              "<tensorflow.python.keras.callbacks.History at 0x7f07d67dda20>"
            ]
          },
          "metadata": {
            "tags": []
          },
          "execution_count": 24
        }
      ]
    },
    {
      "cell_type": "code",
      "metadata": {
        "id": "ovc9qEQ36vIh",
        "colab_type": "code",
        "colab": {}
      },
      "source": [
        ""
      ],
      "execution_count": 0,
      "outputs": []
    },
    {
      "cell_type": "markdown",
      "metadata": {
        "id": "FD6-7zJR6FXx",
        "colab_type": "text"
      },
      "source": [
        "### Test on a sample"
      ]
    },
    {
      "cell_type": "code",
      "metadata": {
        "id": "Kaae-nML6KXj",
        "colab_type": "code",
        "outputId": "8428044d-2d78-4137-ef0c-c04aa31160d7",
        "colab": {
          "base_uri": "https://localhost:8080/",
          "height": 510
        }
      },
      "source": [
        "sample_idx=-88\n",
        "texts[sample_idx].split('\\n')"
      ],
      "execution_count": 0,
      "outputs": [
        {
          "output_type": "execute_result",
          "data": {
            "text/plain": [
              "['',\n",
              " '',\n",
              " 'In article <sbuckley.735337212@sfu.ca> sbuckley@fraser.sfu.ca (Stephen Buckley) writes:',\n",
              " '>muttiah@thistle.ecn.purdue.edu (Ranjan S Muttiah) writes:',\n",
              " '',\n",
              " '>>Mr. Clinton said today that the horrible tragedy of the Waco fiasco',\n",
              " '>>should remind those who join cults of the dangers of doing so.',\n",
              " '>>Now, I began scratching my head thinking (a bad sign :-), \"don\\'t the ',\n",
              " '>>mainstream religions (in this case Christianity...or the 7th day ',\n",
              " \">>adventist in particular) just keep these guys going ? Isn't Mr. Clinton \",\n",
              " '>>condemning his own religion ? After all, isn\\'t it a cult too ?\"',\n",
              " '',\n",
              " '>>... bad thoughts these.',\n",
              " '',\n",
              " '>  well it depends on whether you take the literal dictionary definition of',\n",
              " '>cult and say all faiths are cults, or if you take a more social-context',\n",
              " '>view of \"cult which allows you to recognize mainstream religions as ',\n",
              " '>socially-acceptable and cults as groups that involve techniques of brain-',\n",
              " '>washing and all the other characteristics that define oppressive [probly not',\n",
              " '>the *best* word] cult behaviour.',\n",
              " '',\n",
              " 'My understanding of the academic use of the word cult is that it is',\n",
              " 'a group of people oriented around a single authority figure. It need',\n",
              " 'not be religious. However, I have seen plenty of religious cults,',\n",
              " 'including some that mainstream.',\n",
              " '',\n",
              " 'eric',\n",
              " '',\n",
              " '']"
            ]
          },
          "metadata": {
            "tags": []
          },
          "execution_count": 25
        }
      ]
    },
    {
      "cell_type": "code",
      "metadata": {
        "id": "iMbvPQ8z6e9U",
        "colab_type": "code",
        "colab": {}
      },
      "source": [
        "# Do prediction step here\n",
        "sample_idx=-88\n",
        "# Take Sample from data as Test/Train was shuffled\n",
        "predict_data = pad_sequences(tokenizer.texts_to_sequences(texts[sample_idx:sample_idx+1]), maxlen=MAX_SEQUENCE_LENGTH)\n",
        "prediction_logits = model.predict(predict_data)\n"
      ],
      "execution_count": 0,
      "outputs": []
    },
    {
      "cell_type": "code",
      "metadata": {
        "id": "jHkLMrcm6elQ",
        "colab_type": "code",
        "outputId": "544862ad-3986-4f22-973e-c9d5453399f8",
        "colab": {
          "base_uri": "https://localhost:8080/",
          "height": 119
        }
      },
      "source": [
        "prediction_logits"
      ],
      "execution_count": 0,
      "outputs": [
        {
          "output_type": "execute_result",
          "data": {
            "text/plain": [
              "array([[4.6901825e-01, 2.9038871e-05, 1.1197404e-05, 2.1173032e-06,\n",
              "        1.6490731e-05, 2.5303987e-05, 2.1990618e-06, 1.4413213e-05,\n",
              "        6.5092390e-06, 4.5575682e-05, 9.3843946e-06, 4.9531559e-04,\n",
              "        9.2440850e-06, 7.8234397e-04, 5.4128811e-04, 7.9022804e-03,\n",
              "        2.7562813e-03, 4.5764712e-03, 3.1540256e-02, 4.8221603e-01]],\n",
              "      dtype=float32)"
            ]
          },
          "metadata": {
            "tags": []
          },
          "execution_count": 77
        }
      ]
    },
    {
      "cell_type": "code",
      "metadata": {
        "id": "Xqwi0YiG8MaG",
        "colab_type": "code",
        "outputId": "e014df52-b676-4028-ade1-5982e4d786bf",
        "colab": {
          "base_uri": "https://localhost:8080/",
          "height": 34
        }
      },
      "source": [
        "prediction_label_best = prediction_logits.argmax()\n",
        "print(f'Label Id with highest probability is: {prediction_label_best}')"
      ],
      "execution_count": 0,
      "outputs": [
        {
          "output_type": "stream",
          "text": [
            "Label Id with highest probability is: 19\n"
          ],
          "name": "stdout"
        }
      ]
    },
    {
      "cell_type": "code",
      "metadata": {
        "id": "nMsN7RK4r2Hd",
        "colab_type": "code",
        "outputId": "d7f0a9b6-5b0e-43cb-cb38-65846b5d9a31",
        "colab": {
          "base_uri": "https://localhost:8080/",
          "height": 357
        }
      },
      "source": [
        "label_names = list(labels_index.keys())\n",
        "label_names"
      ],
      "execution_count": 0,
      "outputs": [
        {
          "output_type": "execute_result",
          "data": {
            "text/plain": [
              "['alt.atheism',\n",
              " 'comp.graphics',\n",
              " 'comp.os.ms-windows.misc',\n",
              " 'comp.sys.ibm.pc.hardware',\n",
              " 'comp.sys.mac.hardware',\n",
              " 'comp.windows.x',\n",
              " 'misc.forsale',\n",
              " 'rec.autos',\n",
              " 'rec.motorcycles',\n",
              " 'rec.sport.baseball',\n",
              " 'rec.sport.hockey',\n",
              " 'sci.crypt',\n",
              " 'sci.electronics',\n",
              " 'sci.med',\n",
              " 'sci.space',\n",
              " 'soc.religion.christian',\n",
              " 'talk.politics.guns',\n",
              " 'talk.politics.mideast',\n",
              " 'talk.politics.misc',\n",
              " 'talk.religion.misc']"
            ]
          },
          "metadata": {
            "tags": []
          },
          "execution_count": 79
        }
      ]
    },
    {
      "cell_type": "code",
      "metadata": {
        "id": "kDrEhP867_-E",
        "colab_type": "code",
        "outputId": "66aa4b53-6d56-40ca-ccdb-6a7bcb1ffb1b",
        "colab": {
          "base_uri": "https://localhost:8080/",
          "height": 34
        }
      },
      "source": [
        "# And get the predicted label text\n",
        "print(f'Predicted Label name is: {label_names[prediction_label_best]}')"
      ],
      "execution_count": 0,
      "outputs": [
        {
          "output_type": "stream",
          "text": [
            "Predicted Label name is: talk.religion.misc\n"
          ],
          "name": "stdout"
        }
      ]
    },
    {
      "cell_type": "code",
      "metadata": {
        "id": "m-bxk77vdbXO",
        "colab_type": "code",
        "outputId": "a776a871-68ea-4da4-d6cd-35a32ed77b80",
        "colab": {
          "base_uri": "https://localhost:8080/",
          "height": 34
        }
      },
      "source": [
        "#Label Name from Datatset\n",
        "actual_label_id = labels_orig[sample_idx]\n",
        "print(f'Actual Label name is: {label_names[actual_label_id]}')"
      ],
      "execution_count": 0,
      "outputs": [
        {
          "output_type": "stream",
          "text": [
            "Actual Label name is: talk.religion.misc\n"
          ],
          "name": "stdout"
        }
      ]
    },
    {
      "cell_type": "markdown",
      "metadata": {
        "id": "emXQXr1W8WWG",
        "colab_type": "text"
      },
      "source": [
        "#### All Done!"
      ]
    },
    {
      "cell_type": "code",
      "metadata": {
        "id": "2jVRo-fX8Eqa",
        "colab_type": "code",
        "colab": {}
      },
      "source": [
        ""
      ],
      "execution_count": 0,
      "outputs": []
    }
  ]
}